{
 "cells": [
  {
   "cell_type": "code",
   "execution_count": 1,
   "id": "dff246d6",
   "metadata": {},
   "outputs": [],
   "source": [
    "import numpy as np\n",
    "import pandas as pd\n",
    "import matplotlib.pyplot as plt\n",
    "%matplotlib inline"
   ]
  },
  {
   "cell_type": "markdown",
   "id": "7814c989",
   "metadata": {},
   "source": [
    "# Uppgift 3"
   ]
  },
  {
   "cell_type": "code",
   "execution_count": 2,
   "id": "0af90788",
   "metadata": {},
   "outputs": [],
   "source": [
    "def func(t):\n",
    "    Q = 9 + 5*(np.cos(0.4*t))**2\n",
    "    return Q\n",
    "\n",
    "def fun(t):\n",
    "    c = 5*(np.e**(-0.5*t)) + 2*(np.e**(0.15*t))\n",
    "    return c\n",
    "\n",
    "def f(t): #Definierar funktionen som Q*c\n",
    "    return func(t) * fun(t)"
   ]
  },
  {
   "cell_type": "markdown",
   "id": "d62a8135",
   "metadata": {},
   "source": [
    "a) Skriv ett Python-program som approximerar värdet av integralen (5) med trapetsregeln. Börja med fyra delintervall (N = 4) och dubbla antalet delintervall tills dess att integralvärdet har 3 säkra decimaler. Programmet ska skriva ut en tabell med värdena på N samt motsvarande integralvärden. Programmet ska även beräkna och skriva ut metodens noggrannhetsordning (använd dina beräknad integralvärden"
   ]
  },
  {
   "cell_type": "code",
   "execution_count": 3,
   "id": "422e121a",
   "metadata": {},
   "outputs": [
    {
     "name": "stdout",
     "output_type": "stream",
     "text": [
      "N                     t1                diff\n",
      "8             390.294794            1.239238\n",
      "16            389.055557            0.313675\n",
      "32            388.741881            0.078667\n",
      "64            388.663214            0.019683\n",
      "128           388.643532            0.004922\n",
      "256           388.638610            0.001230\n",
      "512           388.637379            0.000308\n",
      "\n",
      "Kvoten: \n",
      " [3.99858632 3.99964638 3.99991158]\n",
      "Integralen: \n",
      " [388.6836189  388.64863499 388.63988592 388.63769846 388.63715159]\n",
      "Feluppskattning: \n",
      " 0.0005468771959158403\n"
     ]
    }
   ],
   "source": [
    "#Trapetsregeln\n",
    "a = 3 # Nedre integrationsgränsen \n",
    "b = 9 # Övre integrationsgränsen \n",
    "N = 4 # Steglängd \n",
    "h = 1/4 \n",
    "\n",
    "def trapz(a,b,N):\n",
    "    #Trapetsregeln\n",
    "    h = (b-a)/N # Antal intervall \n",
    "    x = np.linspace(a,b,int(N)+1) # Skapa en vektor med integrationspunkter \n",
    "    fx = f(x) # Räkna ut funktionen i integrationspunkterna\n",
    "    Th = h*(np.sum(fx)-0.5*(fx[0]+fx[-1]))\n",
    "    return Th\n",
    "\n",
    "diff = 1000\n",
    "print('{:<4}{:>20}{:>20}'.format('N','t1','diff')) #Printar en header till tabellen\n",
    "while diff>1E-3: #Fortsätter beräkna medan diffen är större än vår tolerans(3 säkra decimaler)\n",
    "    t1 = trapz(a, b, N)\n",
    "    N = N*2\n",
    "    t2 = trapz(a, b, N)\n",
    "    diff = t1-t2\n",
    "    print('{:<4}{:>20f}{:>20f}'.format(N,t1,diff)) #Ger datan i tabelliknande lista\n",
    "\n",
    "print('') #spacer\n",
    "Thvec = np.empty(5)\n",
    "\n",
    "for i in range(5):\n",
    "    N = (b-a)/h \n",
    "    x = np.linspace(a,b,int(N)+1) # Skapa en vektor med integrationspunkter \n",
    "    fx = f(x) # Räkna ut funktionen i integrationspunkterna\n",
    "    Th = h*(np.sum(fx)-0.5*(fx[0]+fx[-1]))\n",
    "    Thvec[i] = Th # Spara integralvärdet\n",
    "    h = h/2 # halvera h \n",
    "    \n",
    "Upper = np.abs(Thvec[1:-1] - Thvec[0:-2])\n",
    "Lower = np.abs(Thvec[2:] - Thvec[1:-1])\n",
    "kvot = Upper/Lower\n",
    "print(\"Kvoten:\",\"\\n\", kvot)\n",
    "print(\"Integralen:\",\"\\n\", Thvec)\n",
    "print(\"Feluppskattning:\",\"\\n\", np.abs(Thvec[-2]-Thvec[-1]))"
   ]
  },
  {
   "cell_type": "markdown",
   "id": "f9c3e5ab",
   "metadata": {},
   "source": [
    "c) Utöka programmet så att det även approximerar värdet av integralen (5) med Simpsons formel. Börja med fyra delintervall (N = 4) och dubbla antalet delintervall tills dess att integralvärdet har 3 säkra decimaler. Programmet ska även i det här fallet skriva ut en tabell med värdena på N samt motsvarande integralvärden. Beräkna och skriva ut metodens noggrannhetsordning."
   ]
  },
  {
   "cell_type": "code",
   "execution_count": 4,
   "id": "0d0b37d3",
   "metadata": {},
   "outputs": [
    {
     "name": "stdout",
     "output_type": "stream",
     "text": [
      "N                     t1                diff\n",
      "8             388.709142            0.066664\n",
      "16            388.642478            0.005155\n",
      "32            388.637323            0.000332\n",
      "\n",
      "Kvoten: \n",
      " [12.93311655 15.54809479]\n",
      "Integralen: \n",
      " [388.6836189  388.64863499 388.63988592 388.63769846 388.63715159]\n",
      "Feluppskattning: \n",
      " 0.0005468771959158403\n"
     ]
    }
   ],
   "source": [
    "#Simpsons regel\n",
    "a = 3 #Nedre integrationsgräns\n",
    "b = 9 #Övre integrationsgräns\n",
    "N = 4 #Steglängd\n",
    "def simps(a, b, N): #Definierar Simpsons regel\n",
    "    h = (b-a)/N\n",
    "    x = np.linspace(a,b,N+1)\n",
    "    y = f(x)\n",
    "    Sh = h/3 * np.sum(y[0:-1:2] + 4*y[1::2] + y[2::2])\n",
    "    return Sh\n",
    "\n",
    "diff = 1000\n",
    "print('{:<4}{:>20}{:>20}'.format('N','t1','diff')) #Printar en header till tabellen\n",
    "while diff>1E-3: #Fortsätter beräkna medan diffen är större än vår tolerans(3 säkra decimaler)\n",
    "    t1 = simps(a, b, N)\n",
    "    N = N*2\n",
    "    t2 = simps(a, b, N)\n",
    "    diff = t1-t2\n",
    "    print('{:<4}{:>20f}{:>20f}'.format(N,t1,diff)) #Ger datan i tabelliknande lista\n",
    "    \n",
    "print('') #Spacer \n",
    "Shvec=np.empty(4) # Tom vektor med 4 \"platser\", detta pga 3 säkra decimaler.\n",
    "N = 4 #Antal intervall \n",
    "for i in range(4):\n",
    "    h = (b-a)/N \n",
    "    x = np.linspace(a,b,N+1) # Skapa en vektor med integrationspunkter \n",
    "    fx = f(x) # Räkna ut funktionen i integrationspunkterna\n",
    "    Sh = h/3*(fx[0] + 4*np.sum(fx[1:N:2]) + 2*sum(fx[2:N-1:2]) + fx[N]) #Simpsons regel\n",
    "    Shvec[i] = Sh # Spara integralvärdet\n",
    "    N = 2*N # Dubblera antal intervall \n",
    "    \n",
    "Upper = np.abs(Shvec[1:-1] - Shvec[0:-2])\n",
    "Lower = np.abs(Shvec[2:] - Shvec[1:-1])\n",
    "kvot = Upper/Lower\n",
    "print(\"Kvoten:\",\"\\n\", kvot)\n",
    "print(\"Integralen:\",\"\\n\", Thvec)\n",
    "print(\"Feluppskattning:\",\"\\n\", np.abs(Thvec[-2]-Thvec[-1]))"
   ]
  },
  {
   "cell_type": "code",
   "execution_count": null,
   "id": "48b77c41",
   "metadata": {},
   "outputs": [],
   "source": []
  }
 ],
 "metadata": {
  "kernelspec": {
   "display_name": "Python 3 (ipykernel)",
   "language": "python",
   "name": "python3"
  },
  "language_info": {
   "codemirror_mode": {
    "name": "ipython",
    "version": 3
   },
   "file_extension": ".py",
   "mimetype": "text/x-python",
   "name": "python",
   "nbconvert_exporter": "python",
   "pygments_lexer": "ipython3",
   "version": "3.9.7"
  }
 },
 "nbformat": 4,
 "nbformat_minor": 5
}
